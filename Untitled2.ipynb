{
 "cells": [
  {
   "cell_type": "code",
   "execution_count": 1,
   "metadata": {},
   "outputs": [
    {
     "data": {
      "text/plain": [
       "<Figure size 840x700 with 1 Axes>"
      ]
     },
     "metadata": {},
     "output_type": "display_data"
    },
    {
     "data": {
      "text/plain": [
       "<Figure size 840x700 with 1 Axes>"
      ]
     },
     "metadata": {},
     "output_type": "display_data"
    },
    {
     "data": {
      "text/plain": [
       "<Figure size 840x700 with 1 Axes>"
      ]
     },
     "metadata": {},
     "output_type": "display_data"
    },
    {
     "data": {
      "text/plain": [
       "<Figure size 840x700 with 1 Axes>"
      ]
     },
     "metadata": {},
     "output_type": "display_data"
    },
    {
     "data": {
      "text/plain": [
       "<Figure size 840x700 with 1 Axes>"
      ]
     },
     "metadata": {},
     "output_type": "display_data"
    },
    {
     "data": {
      "text/plain": [
       "<Figure size 640x480 with 1 Axes>"
      ]
     },
     "metadata": {},
     "output_type": "display_data"
    },
    {
     "data": {
      "text/plain": [
       "<Figure size 840x700 with 1 Axes>"
      ]
     },
     "metadata": {},
     "output_type": "display_data"
    },
    {
     "data": {
      "text/plain": [
       "<Figure size 840x700 with 1 Axes>"
      ]
     },
     "metadata": {},
     "output_type": "display_data"
    },
    {
     "data": {
      "text/plain": [
       "<Figure size 840x700 with 1 Axes>"
      ]
     },
     "metadata": {},
     "output_type": "display_data"
    },
    {
     "data": {
      "text/plain": [
       "<Figure size 840x700 with 1 Axes>"
      ]
     },
     "metadata": {},
     "output_type": "display_data"
    },
    {
     "data": {
      "text/plain": [
       "<Figure size 840x700 with 1 Axes>"
      ]
     },
     "metadata": {},
     "output_type": "display_data"
    },
    {
     "data": {
      "text/plain": [
       "<Figure size 640x480 with 1 Axes>"
      ]
     },
     "metadata": {},
     "output_type": "display_data"
    }
   ],
   "source": [
    "#\n",
    "#################################### questão 2\n",
    "#\n",
    "\n",
    "import numpy as np\n",
    "import matplotlib.pyplot as plt\n",
    "\n",
    "#Definição das funções aproximadas seguindo os passos das anotações de aula\n",
    "\n",
    "def phi_element(m , num_n , delta):\n",
    "    res = (psi_element(m - 0.5,num_n - 0.5,delta) - psi_element(m + 0.5,num_n - 0.5,delta) - psi_element(m - 0.5,num_n + 0.5,delta) + psi_element(m + 0.5,num_n + 0.5,delta))\n",
    "    return res\n",
    "\n",
    "def a_element(m , num_n , delta):\n",
    "    res = (delta**2)*psi_element(m,num_n,delta)\n",
    "    return res\n",
    "\n",
    "def z_element(m , num_n, delta):\n",
    "    res =  (k**2)*a_element(m,num_n,delta) - phi_element(m,num_n,delta)\n",
    "    return res\n",
    "\n",
    "def psi_element(m , num_n , delta):\n",
    "    res = 0\n",
    "    if(m != num_n):\n",
    "        raiz = np.sqrt(((m-num_n)*delta)**2 + a**2)\n",
    "        numerador = np.e**(-(1j)*k*raiz)\n",
    "        denominador = 4*np.pi*raiz\n",
    "        res = numerador/denominador\n",
    "    else:\n",
    "        loog = np.log((delta/2 + np.sqrt((delta/2)**2 + a**2))/a)\n",
    "        res = (1/(2*np.pi*delta))*loog + (-(1j)*k/(4*np.pi))\n",
    "    return res\n",
    "\n",
    "\n",
    "\n",
    "#construção das matrizes\n",
    "def z_matrix(N , delta):\n",
    "    mat_z = np.zeros( (N, N)  , dtype=complex)\n",
    "    for m in range(0,N):\n",
    "        for num_n in range(0,N):\n",
    "            mat_z[m][num_n] = z_element(m,num_n,delta) \n",
    "    return mat_z\n",
    "\n",
    "def v_matrix(N):\n",
    "    mat_v = np.zeros(N , dtype=complex)        \n",
    "    mat_v[np.floor(N/2).astype(int)] = 1       \n",
    "    mat_v = -(1j)*2*np.pi*freq*perm*mat_v  \n",
    "    return mat_v\n",
    "\n",
    "def i_matrix(mat_z , mat_v):\n",
    "    mat_i = np.linalg.solve(mat_z, mat_v)     \n",
    "    return mat_i\n",
    "\n",
    "\n",
    "def z_in_matrix(N , mat_v , mat_i):\n",
    "    return 1/mat_i[np.floor(N/2).astype(int)]\n",
    "\n",
    "#\n",
    "####################################questão 3\n",
    "#\n",
    "\n",
    "freq = 300e6                         \n",
    "lightSpeed = 299792458                    \n",
    "wave_length = lightSpeed/freq               \n",
    "perm = 8.8541878176e-12    \n",
    "k = 2*np.pi/(wave_length)              \n",
    "a = wave_length*(1e-4)  \n",
    "\n",
    "\n",
    "N = [19 , 3 , 5 , 9 , 97]\n",
    "antenna_length = wave_length/2\n",
    "z_max = (antenna_length/wave_length)/2   \n",
    "                                        \n",
    "\n",
    "for num_n in N: \n",
    "    \n",
    "    fig=plt.figure(figsize=(12, 10), dpi= 70) \n",
    "    delta = antenna_length/(num_n+1)     \n",
    "    \n",
    "    z_mat = z_matrix(num_n , delta)    \n",
    "    v_mat = v_matrix(num_n)\n",
    "    i_mat = i_matrix(z_mat , v_mat)\n",
    "\n",
    "    z1 = np.linspace(- z_max,z_max , num_n)\n",
    "    plt.plot(z1, np.absolute(i_mat) , '-', color='green')\n",
    "\n",
    "    \n",
    "    plt.title('Para antena de '  + str(num_n) + ' seguimentos')\n",
    "    plt.xlabel('Comprimento da antena centrada')\n",
    "    plt.ylabel('Corrente')\n",
    "    plt.show()\n",
    "    \n",
    "    #\n",
    "####################################questão 4\n",
    "#\n",
    "\n",
    "mat_z_in = []\n",
    "    \n",
    "for num_n in range(1,161,2):    \n",
    "    z_mat = z_matrix(num_n , delta)\n",
    "    v_mat = v_matrix(num_n)\n",
    "    i_mat = i_matrix(z_mat , v_mat)\n",
    "    mat_z_in = mat_z_in + [z_in_matrix(num_n , v_mat , i_mat)]\n",
    "    \n",
    "plt.plot(range(1 , 161 ,2) , np.real(mat_z_in) , '.', color='green')\n",
    "plt.xlabel('Numero de seguimentos')\n",
    "plt.ylabel('Impedancia')\n",
    "plt.show()\n",
    "\n",
    "#\n",
    "####################################questão 5\n",
    "#\n",
    "\n",
    "antenna_length = wave_length\n",
    "z_max = (antenna_length/wave_length)/2  \n",
    "                                        \n",
    "for num_n in N: \n",
    "    \n",
    "    fig=plt.figure(figsize=(12, 10), dpi= 70, facecolor='w') \n",
    "    delta = antenna_length/(num_n+1)     \n",
    "    \n",
    "    z_mat = z_matrix(num_n , delta)     \n",
    "    v_mat = v_matrix(num_n)\n",
    "    i_mat = i_matrix(z_mat , v_mat)\n",
    "\n",
    "    z5 = np.linspace(- z_max,z_max , num_n)\n",
    "    plt.plot(z5, np.absolute(i_mat) , '-', color='green')\n",
    "\n",
    "    plt.title('Para antena de '  + str(num_n) + ' seguimentos')\n",
    "    plt.xlabel('Comprimento da antena centrada')\n",
    "    plt.ylabel('Corrente')\n",
    "    plt.show()\n",
    "\n",
    "#\n",
    "####################################questão 6\n",
    "#\n",
    "\n",
    "mat_z_in = []\n",
    "    \n",
    "for num_n in range(1,161,2):    \n",
    "    z_mat = z_matrix(num_n , delta)\n",
    "    v_mat = v_matrix(num_n)\n",
    "    i_mat = i_matrix(z_mat , v_mat)\n",
    "    mat_z_in = mat_z_in + [z_in_matrix(num_n , v_mat , i_mat)]\n",
    "    \n",
    "plt.plot(range(1 , 161 ,2) , np.real(mat_z_in) , '.', color='green')\n",
    "plt.xlabel('Numero de seguimentos')\n",
    "plt.ylabel('Impedancia')\n",
    "plt.show()\n",
    "\n"
   ]
  }
 ],
 "metadata": {
  "kernelspec": {
   "display_name": "Python 3",
   "language": "python",
   "name": "python3"
  },
  "language_info": {
   "codemirror_mode": {
    "name": "ipython",
    "version": 3
   },
   "file_extension": ".py",
   "mimetype": "text/x-python",
   "name": "python",
   "nbconvert_exporter": "python",
   "pygments_lexer": "ipython3",
   "version": "3.7.3"
  }
 },
 "nbformat": 4,
 "nbformat_minor": 2
}
